{
  "nbformat": 4,
  "nbformat_minor": 0,
  "metadata": {
    "colab": {
      "provenance": [],
      "authorship_tag": "ABX9TyNwGGjpu9GB3LqgqsunJ6UX",
      "include_colab_link": true
    },
    "kernelspec": {
      "name": "python3",
      "display_name": "Python 3"
    },
    "language_info": {
      "name": "python"
    }
  },
  "cells": [
    {
      "cell_type": "markdown",
      "metadata": {
        "id": "view-in-github",
        "colab_type": "text"
      },
      "source": [
        "<a href=\"https://colab.research.google.com/github/luisosmx/Git_exercises/blob/main/files_csv.ipynb\" target=\"_parent\"><img src=\"https://colab.research.google.com/assets/colab-badge.svg\" alt=\"Open In Colab\"/></a>"
      ]
    },
    {
      "cell_type": "code",
      "source": [
        "from google.colab import auth\n",
        "auth.authenticate_user()\n",
        "\n"
      ],
      "metadata": {
        "id": "7fJUtUZf_EiC"
      },
      "execution_count": 43,
      "outputs": []
    },
    {
      "cell_type": "code",
      "source": [
        "import pandas as pd\n",
        "from google.cloud import storage\n"
      ],
      "metadata": {
        "id": "eWqyQ_qPCZ_t"
      },
      "execution_count": 44,
      "outputs": []
    },
    {
      "cell_type": "code",
      "source": [
        "project_id = 'calm-dragon-378604'\n",
        "bucket_name = 'files_csv_lms'\n",
        "\n",
        "client = storage.Client(project=project_id)\n",
        "bucket = client.get_bucket(bucket_name)\n"
      ],
      "metadata": {
        "id": "s98R7O1uCfWk"
      },
      "execution_count": 45,
      "outputs": []
    },
    {
      "cell_type": "code",
      "source": [
        "file_name = 'movie_review2.xlsx'\n"
      ],
      "metadata": {
        "id": "qs0e-TVODGKi"
      },
      "execution_count": 46,
      "outputs": []
    },
    {
      "cell_type": "code",
      "source": [
        "blob = bucket.blob(file_name)\n",
        "content = blob.download_as_string()\n",
        "#Aqui se encuentra definido el dataframe = df\n",
        "df = pd.read_excel(content)\n"
      ],
      "metadata": {
        "id": "TbnMIeQADMtE"
      },
      "execution_count": 47,
      "outputs": []
    },
    {
      "cell_type": "code",
      "source": [
        "df['review_str'] = df['review_str'].apply(lambda x: ''.join(x))\n",
        "df['review_str'] = df['review_str'].astype(str)\n"
      ],
      "metadata": {
        "id": "a4mCPt0sCM9c"
      },
      "execution_count": 48,
      "outputs": []
    },
    {
      "cell_type": "code",
      "source": [
        "df.head(10)"
      ],
      "metadata": {
        "colab": {
          "base_uri": "https://localhost:8080/",
          "height": 363
        },
        "id": "CE37BAa1DlKD",
        "outputId": "b85deecb-1804-4ac1-fb53-5b980b8cb1d1"
      },
      "execution_count": 49,
      "outputs": [
        {
          "output_type": "execute_result",
          "data": {
            "text/plain": [
              "     cid                                         review_str  id_review  \\\n",
              "0  13756  'O', 'n', 'c', 'e', ' ', 'a', 'g', 'a', 'i', '...          1   \n",
              "1  15738  'T', 'h', 'i', 's', ' ', 'i', 's', ' ', 'a', '...          2   \n",
              "2  15727  'F', 'i', 'r', 's', 't', ' ', 'o', 'f', ' ', '...          3   \n",
              "3  17954  'N', 'o', 't', ' ', 'e', 'v', 'e', 'n', ' ', '...          4   \n",
              "4  16579  'B', 'r', 'a', 's', 's', ' ', 'p', 'i', 'c', '...          5   \n",
              "5  14841  'A', ' ', 'f', 'u', 'n', 'n', 'y', ' ', 't', '...          6   \n",
              "6  18085  'T', 'h', 'i', 's', ' ', 'G', 'e', 'r', 'm', '...          7   \n",
              "7  16365  'B', 'e', 'i', 'n', 'g', ' ', 'a', ' ', 'l', '...          8   \n",
              "8  17912  'T', 'o', 'k', 'y', 'o', ' ', 'E', 'y', 'e', '...          9   \n",
              "9  15100  'W', 'e', 'a', 'l', 't', 'h', 'y', ' ', 'h', '...         10   \n",
              "\n",
              "                                              review  \n",
              "0  ['O', 'n', 'c', 'e', ' ', 'a', 'g', 'a', 'i', ...  \n",
              "1  ['T', 'h', 'i', 's', ' ', 'i', 's', ' ', 'a', ...  \n",
              "2  ['F', 'i', 'r', 's', 't', ' ', 'o', 'f', ' ', ...  \n",
              "3  ['N', 'o', 't', ' ', 'e', 'v', 'e', 'n', ' ', ...  \n",
              "4  ['B', 'r', 'a', 's', 's', ' ', 'p', 'i', 'c', ...  \n",
              "5  ['A', ' ', 'f', 'u', 'n', 'n', 'y', ' ', 't', ...  \n",
              "6  ['T', 'h', 'i', 's', ' ', 'G', 'e', 'r', 'm', ...  \n",
              "7  ['B', 'e', 'i', 'n', 'g', ' ', 'a', ' ', 'l', ...  \n",
              "8  ['T', 'o', 'k', 'y', 'o', ' ', 'E', 'y', 'e', ...  \n",
              "9  ['W', 'e', 'a', 'l', 't', 'h', 'y', ' ', 'h', ...  "
            ],
            "text/html": [
              "\n",
              "  <div id=\"df-4b76a14b-a684-4827-b282-134fe89a9e20\">\n",
              "    <div class=\"colab-df-container\">\n",
              "      <div>\n",
              "<style scoped>\n",
              "    .dataframe tbody tr th:only-of-type {\n",
              "        vertical-align: middle;\n",
              "    }\n",
              "\n",
              "    .dataframe tbody tr th {\n",
              "        vertical-align: top;\n",
              "    }\n",
              "\n",
              "    .dataframe thead th {\n",
              "        text-align: right;\n",
              "    }\n",
              "</style>\n",
              "<table border=\"1\" class=\"dataframe\">\n",
              "  <thead>\n",
              "    <tr style=\"text-align: right;\">\n",
              "      <th></th>\n",
              "      <th>cid</th>\n",
              "      <th>review_str</th>\n",
              "      <th>id_review</th>\n",
              "      <th>review</th>\n",
              "    </tr>\n",
              "  </thead>\n",
              "  <tbody>\n",
              "    <tr>\n",
              "      <th>0</th>\n",
              "      <td>13756</td>\n",
              "      <td>'O', 'n', 'c', 'e', ' ', 'a', 'g', 'a', 'i', '...</td>\n",
              "      <td>1</td>\n",
              "      <td>['O', 'n', 'c', 'e', ' ', 'a', 'g', 'a', 'i', ...</td>\n",
              "    </tr>\n",
              "    <tr>\n",
              "      <th>1</th>\n",
              "      <td>15738</td>\n",
              "      <td>'T', 'h', 'i', 's', ' ', 'i', 's', ' ', 'a', '...</td>\n",
              "      <td>2</td>\n",
              "      <td>['T', 'h', 'i', 's', ' ', 'i', 's', ' ', 'a', ...</td>\n",
              "    </tr>\n",
              "    <tr>\n",
              "      <th>2</th>\n",
              "      <td>15727</td>\n",
              "      <td>'F', 'i', 'r', 's', 't', ' ', 'o', 'f', ' ', '...</td>\n",
              "      <td>3</td>\n",
              "      <td>['F', 'i', 'r', 's', 't', ' ', 'o', 'f', ' ', ...</td>\n",
              "    </tr>\n",
              "    <tr>\n",
              "      <th>3</th>\n",
              "      <td>17954</td>\n",
              "      <td>'N', 'o', 't', ' ', 'e', 'v', 'e', 'n', ' ', '...</td>\n",
              "      <td>4</td>\n",
              "      <td>['N', 'o', 't', ' ', 'e', 'v', 'e', 'n', ' ', ...</td>\n",
              "    </tr>\n",
              "    <tr>\n",
              "      <th>4</th>\n",
              "      <td>16579</td>\n",
              "      <td>'B', 'r', 'a', 's', 's', ' ', 'p', 'i', 'c', '...</td>\n",
              "      <td>5</td>\n",
              "      <td>['B', 'r', 'a', 's', 's', ' ', 'p', 'i', 'c', ...</td>\n",
              "    </tr>\n",
              "    <tr>\n",
              "      <th>5</th>\n",
              "      <td>14841</td>\n",
              "      <td>'A', ' ', 'f', 'u', 'n', 'n', 'y', ' ', 't', '...</td>\n",
              "      <td>6</td>\n",
              "      <td>['A', ' ', 'f', 'u', 'n', 'n', 'y', ' ', 't', ...</td>\n",
              "    </tr>\n",
              "    <tr>\n",
              "      <th>6</th>\n",
              "      <td>18085</td>\n",
              "      <td>'T', 'h', 'i', 's', ' ', 'G', 'e', 'r', 'm', '...</td>\n",
              "      <td>7</td>\n",
              "      <td>['T', 'h', 'i', 's', ' ', 'G', 'e', 'r', 'm', ...</td>\n",
              "    </tr>\n",
              "    <tr>\n",
              "      <th>7</th>\n",
              "      <td>16365</td>\n",
              "      <td>'B', 'e', 'i', 'n', 'g', ' ', 'a', ' ', 'l', '...</td>\n",
              "      <td>8</td>\n",
              "      <td>['B', 'e', 'i', 'n', 'g', ' ', 'a', ' ', 'l', ...</td>\n",
              "    </tr>\n",
              "    <tr>\n",
              "      <th>8</th>\n",
              "      <td>17912</td>\n",
              "      <td>'T', 'o', 'k', 'y', 'o', ' ', 'E', 'y', 'e', '...</td>\n",
              "      <td>9</td>\n",
              "      <td>['T', 'o', 'k', 'y', 'o', ' ', 'E', 'y', 'e', ...</td>\n",
              "    </tr>\n",
              "    <tr>\n",
              "      <th>9</th>\n",
              "      <td>15100</td>\n",
              "      <td>'W', 'e', 'a', 'l', 't', 'h', 'y', ' ', 'h', '...</td>\n",
              "      <td>10</td>\n",
              "      <td>['W', 'e', 'a', 'l', 't', 'h', 'y', ' ', 'h', ...</td>\n",
              "    </tr>\n",
              "  </tbody>\n",
              "</table>\n",
              "</div>\n",
              "      <button class=\"colab-df-convert\" onclick=\"convertToInteractive('df-4b76a14b-a684-4827-b282-134fe89a9e20')\"\n",
              "              title=\"Convert this dataframe to an interactive table.\"\n",
              "              style=\"display:none;\">\n",
              "        \n",
              "  <svg xmlns=\"http://www.w3.org/2000/svg\" height=\"24px\"viewBox=\"0 0 24 24\"\n",
              "       width=\"24px\">\n",
              "    <path d=\"M0 0h24v24H0V0z\" fill=\"none\"/>\n",
              "    <path d=\"M18.56 5.44l.94 2.06.94-2.06 2.06-.94-2.06-.94-.94-2.06-.94 2.06-2.06.94zm-11 1L8.5 8.5l.94-2.06 2.06-.94-2.06-.94L8.5 2.5l-.94 2.06-2.06.94zm10 10l.94 2.06.94-2.06 2.06-.94-2.06-.94-.94-2.06-.94 2.06-2.06.94z\"/><path d=\"M17.41 7.96l-1.37-1.37c-.4-.4-.92-.59-1.43-.59-.52 0-1.04.2-1.43.59L10.3 9.45l-7.72 7.72c-.78.78-.78 2.05 0 2.83L4 21.41c.39.39.9.59 1.41.59.51 0 1.02-.2 1.41-.59l7.78-7.78 2.81-2.81c.8-.78.8-2.07 0-2.86zM5.41 20L4 18.59l7.72-7.72 1.47 1.35L5.41 20z\"/>\n",
              "  </svg>\n",
              "      </button>\n",
              "      \n",
              "  <style>\n",
              "    .colab-df-container {\n",
              "      display:flex;\n",
              "      flex-wrap:wrap;\n",
              "      gap: 12px;\n",
              "    }\n",
              "\n",
              "    .colab-df-convert {\n",
              "      background-color: #E8F0FE;\n",
              "      border: none;\n",
              "      border-radius: 50%;\n",
              "      cursor: pointer;\n",
              "      display: none;\n",
              "      fill: #1967D2;\n",
              "      height: 32px;\n",
              "      padding: 0 0 0 0;\n",
              "      width: 32px;\n",
              "    }\n",
              "\n",
              "    .colab-df-convert:hover {\n",
              "      background-color: #E2EBFA;\n",
              "      box-shadow: 0px 1px 2px rgba(60, 64, 67, 0.3), 0px 1px 3px 1px rgba(60, 64, 67, 0.15);\n",
              "      fill: #174EA6;\n",
              "    }\n",
              "\n",
              "    [theme=dark] .colab-df-convert {\n",
              "      background-color: #3B4455;\n",
              "      fill: #D2E3FC;\n",
              "    }\n",
              "\n",
              "    [theme=dark] .colab-df-convert:hover {\n",
              "      background-color: #434B5C;\n",
              "      box-shadow: 0px 1px 3px 1px rgba(0, 0, 0, 0.15);\n",
              "      filter: drop-shadow(0px 1px 2px rgba(0, 0, 0, 0.3));\n",
              "      fill: #FFFFFF;\n",
              "    }\n",
              "  </style>\n",
              "\n",
              "      <script>\n",
              "        const buttonEl =\n",
              "          document.querySelector('#df-4b76a14b-a684-4827-b282-134fe89a9e20 button.colab-df-convert');\n",
              "        buttonEl.style.display =\n",
              "          google.colab.kernel.accessAllowed ? 'block' : 'none';\n",
              "\n",
              "        async function convertToInteractive(key) {\n",
              "          const element = document.querySelector('#df-4b76a14b-a684-4827-b282-134fe89a9e20');\n",
              "          const dataTable =\n",
              "            await google.colab.kernel.invokeFunction('convertToInteractive',\n",
              "                                                     [key], {});\n",
              "          if (!dataTable) return;\n",
              "\n",
              "          const docLinkHtml = 'Like what you see? Visit the ' +\n",
              "            '<a target=\"_blank\" href=https://colab.research.google.com/notebooks/data_table.ipynb>data table notebook</a>'\n",
              "            + ' to learn more about interactive tables.';\n",
              "          element.innerHTML = '';\n",
              "          dataTable['output_type'] = 'display_data';\n",
              "          await google.colab.output.renderOutput(dataTable, element);\n",
              "          const docLink = document.createElement('div');\n",
              "          docLink.innerHTML = docLinkHtml;\n",
              "          element.appendChild(docLink);\n",
              "        }\n",
              "      </script>\n",
              "    </div>\n",
              "  </div>\n",
              "  "
            ]
          },
          "metadata": {},
          "execution_count": 49
        }
      ]
    },
    {
      "cell_type": "code",
      "source": [
        "df.to_excel(file_name, index=False)\n",
        "blob = bucket.blob(file_name)\n",
        "blob.upload_from_filename(file_name)\n"
      ],
      "metadata": {
        "id": "aIvoAswbo7Sh"
      },
      "execution_count": null,
      "outputs": []
    },
    {
      "cell_type": "code",
      "source": [
        "blob = bucket.blob(file_name)\n",
        "if blob.exists():\n",
        "    print(f\"El archivo {file_name} existe en el bucket {bucket_name}.\")\n",
        "else:\n",
        "    print(f\"El archivo {file_name} no existe en el bucket {bucket_name}.\")\n"
      ],
      "metadata": {
        "colab": {
          "base_uri": "https://localhost:8080/"
        },
        "id": "G3Lgs_YbqB5L",
        "outputId": "1ddc9c24-2744-480a-abbd-89e9d9efd5fd"
      },
      "execution_count": null,
      "outputs": [
        {
          "output_type": "stream",
          "name": "stdout",
          "text": [
            "El archivo movie_review2.xlsx existe en el bucket files_csv_lms.\n"
          ]
        }
      ]
    },
    {
      "cell_type": "code",
      "source": [
        "print(df.dtypes)\n"
      ],
      "metadata": {
        "colab": {
          "base_uri": "https://localhost:8080/"
        },
        "id": "sSPxv3G3vnbP",
        "outputId": "3e267d25-fd12-4805-a32b-49e3aa15994c"
      },
      "execution_count": null,
      "outputs": [
        {
          "output_type": "stream",
          "name": "stdout",
          "text": [
            "cid            int64\n",
            "review_str    object\n",
            "id_review      int64\n",
            "review        object\n",
            "dtype: object\n"
          ]
        }
      ]
    },
    {
      "cell_type": "code",
      "source": [
        "from google.cloud import bigquery\n"
      ],
      "metadata": {
        "id": "FPuV8UJhyFHL"
      },
      "execution_count": null,
      "outputs": []
    },
    {
      "cell_type": "code",
      "source": [
        "client = bigquery.Client.from_service_account_json('/content/calm-dragon-378604-ae060da1908f.json')\n"
      ],
      "metadata": {
        "id": "rWivv1YH2lsN"
      },
      "execution_count": null,
      "outputs": []
    },
    {
      "cell_type": "code",
      "source": [
        "table_id = 'calm-dragon-378604.exercise_gcp.movie_review'\n",
        "\n",
        "schema_movie = [\n",
        "    bigquery.SchemaField('cid', 'int64', mode='NULLABLE'),\n",
        "    bigquery.SchemaField('review_str', 'object', mode='NULLABLE'),\n",
        "    bigquery.SchemaField('id_review', 'int64', mode='NULLABLE')\n",
        "]\n"
      ],
      "metadata": {
        "id": "2XGw6gJN4FlU"
      },
      "execution_count": null,
      "outputs": []
    },
    {
      "cell_type": "code",
      "source": [
        "job_config_movie = bigquery.LoadJobConfig(\n",
        "  \n",
        "    schema=schema_movie,\n",
        "    \n",
        "    write_disposition=\"WRITE_TRUNCATE\",\n",
        ")"
      ],
      "metadata": {
        "id": "dGOdxHqO-gcU"
      },
      "execution_count": null,
      "outputs": []
    },
    {
      "cell_type": "code",
      "source": [
        "job = client.load_table_from_dataframe(\n",
        "      df, table_id, job_config=job_config_movie\n",
        "  )  # Make an API request.\n",
        "job.result()  # Wait for the job to complete.\n",
        "\n",
        "table = client.get_table(table_id)  # Make an API request.\n",
        "print(\n",
        "      \"Loaded {} rows and {} columns to {}\".format(\n",
        "          table.num_rows, len(table.schema), table_id\n",
        "      )\n",
        "  )\n",
        " "
      ],
      "metadata": {
        "id": "32Ob1nBn_eZt",
        "outputId": "7dc20a16-dd22-4488-bec8-242211325ac3",
        "colab": {
          "base_uri": "https://localhost:8080/",
          "height": 660
        }
      },
      "execution_count": null,
      "outputs": [
        {
          "output_type": "stream",
          "name": "stderr",
          "text": [
            "/usr/local/lib/python3.8/dist-packages/google/cloud/bigquery/_pandas_helpers.py:266: UserWarning: Unable to determine type for field 'review_str'.\n",
            "  warnings.warn(\"Unable to determine type for field '{}'.\".format(bq_field.name))\n"
          ]
        },
        {
          "output_type": "error",
          "ename": "BadRequest",
          "evalue": "ignored",
          "traceback": [
            "\u001b[0;31m---------------------------------------------------------------------------\u001b[0m",
            "\u001b[0;31mInvalidResponse\u001b[0m                           Traceback (most recent call last)",
            "\u001b[0;32m/usr/local/lib/python3.8/dist-packages/google/cloud/bigquery/client.py\u001b[0m in \u001b[0;36mload_table_from_file\u001b[0;34m(self, file_obj, destination, rewind, size, num_retries, job_id, job_id_prefix, location, project, job_config, timeout)\u001b[0m\n\u001b[1;32m   2451\u001b[0m             \u001b[0;32mif\u001b[0m \u001b[0msize\u001b[0m \u001b[0;32mis\u001b[0m \u001b[0;32mNone\u001b[0m \u001b[0;32mor\u001b[0m \u001b[0msize\u001b[0m \u001b[0;34m>=\u001b[0m \u001b[0m_MAX_MULTIPART_SIZE\u001b[0m\u001b[0;34m:\u001b[0m\u001b[0;34m\u001b[0m\u001b[0;34m\u001b[0m\u001b[0m\n\u001b[0;32m-> 2452\u001b[0;31m                 response = self._do_resumable_upload(\n\u001b[0m\u001b[1;32m   2453\u001b[0m                     \u001b[0mfile_obj\u001b[0m\u001b[0;34m,\u001b[0m \u001b[0mjob_resource\u001b[0m\u001b[0;34m,\u001b[0m \u001b[0mnum_retries\u001b[0m\u001b[0;34m,\u001b[0m \u001b[0mtimeout\u001b[0m\u001b[0;34m,\u001b[0m \u001b[0mproject\u001b[0m\u001b[0;34m=\u001b[0m\u001b[0mproject\u001b[0m\u001b[0;34m\u001b[0m\u001b[0;34m\u001b[0m\u001b[0m\n",
            "\u001b[0;32m/usr/local/lib/python3.8/dist-packages/google/cloud/bigquery/client.py\u001b[0m in \u001b[0;36m_do_resumable_upload\u001b[0;34m(self, stream, metadata, num_retries, timeout, project)\u001b[0m\n\u001b[1;32m   2868\u001b[0m         \"\"\"\n\u001b[0;32m-> 2869\u001b[0;31m         upload, transport = self._initiate_resumable_upload(\n\u001b[0m\u001b[1;32m   2870\u001b[0m             \u001b[0mstream\u001b[0m\u001b[0;34m,\u001b[0m \u001b[0mmetadata\u001b[0m\u001b[0;34m,\u001b[0m \u001b[0mnum_retries\u001b[0m\u001b[0;34m,\u001b[0m \u001b[0mtimeout\u001b[0m\u001b[0;34m,\u001b[0m \u001b[0mproject\u001b[0m\u001b[0;34m=\u001b[0m\u001b[0mproject\u001b[0m\u001b[0;34m\u001b[0m\u001b[0;34m\u001b[0m\u001b[0m\n",
            "\u001b[0;32m/usr/local/lib/python3.8/dist-packages/google/cloud/bigquery/client.py\u001b[0m in \u001b[0;36m_initiate_resumable_upload\u001b[0;34m(self, stream, metadata, num_retries, timeout, project)\u001b[0m\n\u001b[1;32m   2941\u001b[0m \u001b[0;34m\u001b[0m\u001b[0m\n\u001b[0;32m-> 2942\u001b[0;31m         upload.initiate(\n\u001b[0m\u001b[1;32m   2943\u001b[0m             \u001b[0mtransport\u001b[0m\u001b[0;34m,\u001b[0m\u001b[0;34m\u001b[0m\u001b[0;34m\u001b[0m\u001b[0m\n",
            "\u001b[0;32m/usr/local/lib/python3.8/dist-packages/google/resumable_media/requests/upload.py\u001b[0m in \u001b[0;36minitiate\u001b[0;34m(self, transport, stream, metadata, content_type, total_bytes, stream_final, timeout)\u001b[0m\n\u001b[1;32m    419\u001b[0m \u001b[0;34m\u001b[0m\u001b[0m\n\u001b[0;32m--> 420\u001b[0;31m         return _request_helpers.wait_and_retry(\n\u001b[0m\u001b[1;32m    421\u001b[0m             \u001b[0mretriable_request\u001b[0m\u001b[0;34m,\u001b[0m \u001b[0mself\u001b[0m\u001b[0;34m.\u001b[0m\u001b[0m_get_status_code\u001b[0m\u001b[0;34m,\u001b[0m \u001b[0mself\u001b[0m\u001b[0;34m.\u001b[0m\u001b[0m_retry_strategy\u001b[0m\u001b[0;34m\u001b[0m\u001b[0;34m\u001b[0m\u001b[0m\n",
            "\u001b[0;32m/usr/local/lib/python3.8/dist-packages/google/resumable_media/requests/_request_helpers.py\u001b[0m in \u001b[0;36mwait_and_retry\u001b[0;34m(func, get_status_code, retry_strategy)\u001b[0m\n\u001b[1;32m    147\u001b[0m         \u001b[0;32mtry\u001b[0m\u001b[0;34m:\u001b[0m\u001b[0;34m\u001b[0m\u001b[0;34m\u001b[0m\u001b[0m\n\u001b[0;32m--> 148\u001b[0;31m             \u001b[0mresponse\u001b[0m \u001b[0;34m=\u001b[0m \u001b[0mfunc\u001b[0m\u001b[0;34m(\u001b[0m\u001b[0;34m)\u001b[0m\u001b[0;34m\u001b[0m\u001b[0;34m\u001b[0m\u001b[0m\n\u001b[0m\u001b[1;32m    149\u001b[0m         \u001b[0;32mexcept\u001b[0m \u001b[0m_CONNECTION_ERROR_CLASSES\u001b[0m \u001b[0;32mas\u001b[0m \u001b[0me\u001b[0m\u001b[0;34m:\u001b[0m\u001b[0;34m\u001b[0m\u001b[0;34m\u001b[0m\u001b[0m\n",
            "\u001b[0;32m/usr/local/lib/python3.8/dist-packages/google/resumable_media/requests/upload.py\u001b[0m in \u001b[0;36mretriable_request\u001b[0;34m()\u001b[0m\n\u001b[1;32m    415\u001b[0m \u001b[0;34m\u001b[0m\u001b[0m\n\u001b[0;32m--> 416\u001b[0;31m             \u001b[0mself\u001b[0m\u001b[0;34m.\u001b[0m\u001b[0m_process_initiate_response\u001b[0m\u001b[0;34m(\u001b[0m\u001b[0mresult\u001b[0m\u001b[0;34m)\u001b[0m\u001b[0;34m\u001b[0m\u001b[0;34m\u001b[0m\u001b[0m\n\u001b[0m\u001b[1;32m    417\u001b[0m \u001b[0;34m\u001b[0m\u001b[0m\n",
            "\u001b[0;32m/usr/local/lib/python3.8/dist-packages/google/resumable_media/_upload.py\u001b[0m in \u001b[0;36m_process_initiate_response\u001b[0;34m(self, response)\u001b[0m\n\u001b[1;32m    508\u001b[0m         \"\"\"\n\u001b[0;32m--> 509\u001b[0;31m         _helpers.require_status_code(\n\u001b[0m\u001b[1;32m    510\u001b[0m             \u001b[0mresponse\u001b[0m\u001b[0;34m,\u001b[0m\u001b[0;34m\u001b[0m\u001b[0;34m\u001b[0m\u001b[0m\n",
            "\u001b[0;32m/usr/local/lib/python3.8/dist-packages/google/resumable_media/_helpers.py\u001b[0m in \u001b[0;36mrequire_status_code\u001b[0;34m(response, status_codes, get_status_code, callback)\u001b[0m\n\u001b[1;32m    107\u001b[0m             \u001b[0mcallback\u001b[0m\u001b[0;34m(\u001b[0m\u001b[0;34m)\u001b[0m\u001b[0;34m\u001b[0m\u001b[0;34m\u001b[0m\u001b[0m\n\u001b[0;32m--> 108\u001b[0;31m         raise common.InvalidResponse(\n\u001b[0m\u001b[1;32m    109\u001b[0m             \u001b[0mresponse\u001b[0m\u001b[0;34m,\u001b[0m\u001b[0;34m\u001b[0m\u001b[0;34m\u001b[0m\u001b[0m\n",
            "\u001b[0;31mInvalidResponse\u001b[0m: ('Request failed with status code', 400, 'Expected one of', <HTTPStatus.OK: 200>, <HTTPStatus.CREATED: 201>)",
            "\nDuring handling of the above exception, another exception occurred:\n",
            "\u001b[0;31mBadRequest\u001b[0m                                Traceback (most recent call last)",
            "\u001b[0;32m<ipython-input-34-4d7e4bfcd13b>\u001b[0m in \u001b[0;36m<module>\u001b[0;34m\u001b[0m\n\u001b[0;32m----> 1\u001b[0;31m job = client.load_table_from_dataframe(\n\u001b[0m\u001b[1;32m      2\u001b[0m       \u001b[0mdf\u001b[0m\u001b[0;34m,\u001b[0m \u001b[0mtable_id\u001b[0m\u001b[0;34m,\u001b[0m \u001b[0mjob_config\u001b[0m\u001b[0;34m=\u001b[0m\u001b[0mjob_config_movie\u001b[0m\u001b[0;34m\u001b[0m\u001b[0;34m\u001b[0m\u001b[0m\n\u001b[1;32m      3\u001b[0m   )  # Make an API request.\n\u001b[1;32m      4\u001b[0m \u001b[0mjob\u001b[0m\u001b[0;34m.\u001b[0m\u001b[0mresult\u001b[0m\u001b[0;34m(\u001b[0m\u001b[0;34m)\u001b[0m  \u001b[0;31m# Wait for the job to complete.\u001b[0m\u001b[0;34m\u001b[0m\u001b[0;34m\u001b[0m\u001b[0m\n\u001b[1;32m      5\u001b[0m \u001b[0;34m\u001b[0m\u001b[0m\n",
            "\u001b[0;32m/usr/local/lib/python3.8/dist-packages/google/cloud/bigquery/client.py\u001b[0m in \u001b[0;36mload_table_from_dataframe\u001b[0;34m(self, dataframe, destination, num_retries, job_id, job_id_prefix, location, project, job_config, parquet_compression, timeout)\u001b[0m\n\u001b[1;32m   2705\u001b[0m             \u001b[0;32mwith\u001b[0m \u001b[0mopen\u001b[0m\u001b[0;34m(\u001b[0m\u001b[0mtmppath\u001b[0m\u001b[0;34m,\u001b[0m \u001b[0;34m\"rb\"\u001b[0m\u001b[0;34m)\u001b[0m \u001b[0;32mas\u001b[0m \u001b[0mtmpfile\u001b[0m\u001b[0;34m:\u001b[0m\u001b[0;34m\u001b[0m\u001b[0;34m\u001b[0m\u001b[0m\n\u001b[1;32m   2706\u001b[0m                 \u001b[0mfile_size\u001b[0m \u001b[0;34m=\u001b[0m \u001b[0mos\u001b[0m\u001b[0;34m.\u001b[0m\u001b[0mpath\u001b[0m\u001b[0;34m.\u001b[0m\u001b[0mgetsize\u001b[0m\u001b[0;34m(\u001b[0m\u001b[0mtmppath\u001b[0m\u001b[0;34m)\u001b[0m\u001b[0;34m\u001b[0m\u001b[0;34m\u001b[0m\u001b[0m\n\u001b[0;32m-> 2707\u001b[0;31m                 return self.load_table_from_file(\n\u001b[0m\u001b[1;32m   2708\u001b[0m                     \u001b[0mtmpfile\u001b[0m\u001b[0;34m,\u001b[0m\u001b[0;34m\u001b[0m\u001b[0;34m\u001b[0m\u001b[0m\n\u001b[1;32m   2709\u001b[0m                     \u001b[0mdestination\u001b[0m\u001b[0;34m,\u001b[0m\u001b[0;34m\u001b[0m\u001b[0;34m\u001b[0m\u001b[0m\n",
            "\u001b[0;32m/usr/local/lib/python3.8/dist-packages/google/cloud/bigquery/client.py\u001b[0m in \u001b[0;36mload_table_from_file\u001b[0;34m(self, file_obj, destination, rewind, size, num_retries, job_id, job_id_prefix, location, project, job_config, timeout)\u001b[0m\n\u001b[1;32m   2458\u001b[0m                 )\n\u001b[1;32m   2459\u001b[0m         \u001b[0;32mexcept\u001b[0m \u001b[0mresumable_media\u001b[0m\u001b[0;34m.\u001b[0m\u001b[0mInvalidResponse\u001b[0m \u001b[0;32mas\u001b[0m \u001b[0mexc\u001b[0m\u001b[0;34m:\u001b[0m\u001b[0;34m\u001b[0m\u001b[0;34m\u001b[0m\u001b[0m\n\u001b[0;32m-> 2460\u001b[0;31m             \u001b[0;32mraise\u001b[0m \u001b[0mexceptions\u001b[0m\u001b[0;34m.\u001b[0m\u001b[0mfrom_http_response\u001b[0m\u001b[0;34m(\u001b[0m\u001b[0mexc\u001b[0m\u001b[0;34m.\u001b[0m\u001b[0mresponse\u001b[0m\u001b[0;34m)\u001b[0m\u001b[0;34m\u001b[0m\u001b[0;34m\u001b[0m\u001b[0m\n\u001b[0m\u001b[1;32m   2461\u001b[0m \u001b[0;34m\u001b[0m\u001b[0m\n\u001b[1;32m   2462\u001b[0m         \u001b[0;32mreturn\u001b[0m \u001b[0mtyping\u001b[0m\u001b[0;34m.\u001b[0m\u001b[0mcast\u001b[0m\u001b[0;34m(\u001b[0m\u001b[0mLoadJob\u001b[0m\u001b[0;34m,\u001b[0m \u001b[0mself\u001b[0m\u001b[0;34m.\u001b[0m\u001b[0mjob_from_resource\u001b[0m\u001b[0;34m(\u001b[0m\u001b[0mresponse\u001b[0m\u001b[0;34m.\u001b[0m\u001b[0mjson\u001b[0m\u001b[0;34m(\u001b[0m\u001b[0;34m)\u001b[0m\u001b[0;34m)\u001b[0m\u001b[0;34m)\u001b[0m\u001b[0;34m\u001b[0m\u001b[0;34m\u001b[0m\u001b[0m\n",
            "\u001b[0;31mBadRequest\u001b[0m: 400 POST https://bigquery.googleapis.com/upload/bigquery/v2/projects/calm-dragon-378604/jobs?uploadType=resumable: Invalid value for type: OBJECT is not a valid value"
          ]
        }
      ]
    }
  ]
}