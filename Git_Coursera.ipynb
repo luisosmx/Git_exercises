{
  "nbformat": 4,
  "nbformat_minor": 0,
  "metadata": {
    "colab": {
      "provenance": [],
      "authorship_tag": "ABX9TyOmj2RWaH4OC6rejwDJno88",
      "include_colab_link": true
    },
    "kernelspec": {
      "name": "python3",
      "display_name": "Python 3"
    },
    "language_info": {
      "name": "python"
    }
  },
  "cells": [
    {
      "cell_type": "markdown",
      "metadata": {
        "id": "view-in-github",
        "colab_type": "text"
      },
      "source": [
        "<a href=\"https://colab.research.google.com/github/luisosmx/Git_exercises/blob/main/Git_Coursera.ipynb\" target=\"_parent\"><img src=\"https://colab.research.google.com/assets/colab-badge.svg\" alt=\"Open In Colab\"/></a>"
      ]
    },
    {
      "cell_type": "markdown",
      "source": [
        "`git init` se inicializa un repositorio vacio en el directorio actual. El mensaje que recibimos menciona un directorio llamado `.git`\n",
        "\n",
        "Se puede comprobar que este comando existe utilizando el comando `ls-la` que enumera los archivos que comienzan con un punto\n",
        "\n",
        "Tambien se puede utilizar el comando `ls-l.git` para ver que hay dentro de el y visualizar las cosas diferentes que contiene\n",
        "\n",
        "A todo esto se le conoce como DIRECTORIO GIT"
      ],
      "metadata": {
        "id": "lmPe-dxNWeW1"
      }
    },
    {
      "cell_type": "markdown",
      "source": [
        "Staging area (INDEX) es un archivo mantenido por GIT que contiene toda la informacion acerca de que archivos y cambios van entrando en su sguiente comando \n",
        "\n",
        "`git status` este comando lo podemos utilizar para obtener informacion sobre el arbol de trabajo actual y cammbios pendientes"
      ],
      "metadata": {
        "id": "xigGk2uDZj07"
      }
    },
    {
      "cell_type": "markdown",
      "source": [
        "* Directorio GIT: Contiene el historial de los archivos y cambios \n",
        "* Arbol de trabajo: Contiene el estado actual del proyecto incluyendo cualquier cambio que se haya realizado\n",
        "* Area de ensayo: Contiene los cambios que se han marcado para ser incluidos en la proxima confirmacion"
      ],
      "metadata": {
        "id": "ZnNUUu6YarQ8"
      }
    },
    {
      "cell_type": "markdown",
      "source": [
        "`git commit` Se utiliza para iniciar una confirmacion de archivos por etapas. Git solo confirmara los cambios que se hayan agregado al area de ensayo, archivos sin seguimiento o archivos modificados que no fueron organizados seran ignorados.\n",
        "\n",
        "`check_reboot` Esta funcion verifica si el equipo esta pendiente de un reinicio."
      ],
      "metadata": {
        "id": "C5GYnJPudY2E"
      }
    },
    {
      "cell_type": "code",
      "source": [
        "import os \n",
        "\n",
        "def check_reboot():\n",
        "  \"\"\"Returns True if the computer has a pending reboot.\"\"\"\n",
        "  return os.path.exist(\"/run/reboot-required\"):\n",
        "def main():\n",
        "  pass\n",
        "\n",
        "main()"
      ],
      "metadata": {
        "id": "GWC3JkYTtgKV"
      },
      "execution_count": null,
      "outputs": []
    },
    {
      "cell_type": "markdown",
      "source": [
        "`a-flag` coloca automaticamente cada archivo que realiza un seguimiento de modificacion antes de realizar una modificaciondejando que se salte el paso `git add`\n",
        "\n",
        "`git commit-a` no funciona en archivos nuevos por que no se rastrean, es un atajo para organizar cualquier cambio de los archivos rastreados y confirmarlos en un solo paso"
      ],
      "metadata": {
        "id": "q2PRHX-hTzP0"
      }
    },
    {
      "cell_type": "markdown",
      "source": [
        "`git log` se puede utilizar el indicador `-p` la p proviene de `patch` por que el uso de esta bandera nos da el patch que se creo.\n",
        "\n",
        "Usando esta opcion es facil ver rapidamente que cambios se hicieron en los archivos de nuestro repositorio, esto es util si estamos rastreando un cambio quye recientemente rompio nuestras herramientas.\n",
        "\n",
        "`git show` Este comando toma un ID de confirmacion como parametro y mostrara la informacion sobre la confirmacion y el parche asociado. \n",
        "\n",
        "`git add` se usa para mostrar el cambio que se agrega y nos preguntan si queremos escenificar o no, de esta manera podemos detectar si hay algun cambio que no queremos confrimar \n",
        "\n",
        "`git mv` se usa para cambiar los nombres de los archivos en el repositorio\n",
        "\n",
        "`gitignore` Dentro de este archivo se especifica las reglas para decirle a git que archivos omitir el repositorio actual"
      ],
      "metadata": {
        "id": "Be9x8Q2mijpY"
      }
    },
    {
      "cell_type": "markdown",
      "source": [
        "`git checkout` seguido del nombre del archivo que desea revertir. Revierte los cambios en los archivos modificados antes de que se organicen.\n",
        "\n",
        "`git reset` se usa para añadir los cambios a el area puesta en escena que realmente no queriamos comprometer \n",
        "\n",
        "`git add *` este comando terminara agregando cualquier cambio realizado en el arbol de trabajo al area de ensayo\n",
        "\n",
        "`git commid --amend` cuando se ejecuta GIT tomara lo que sea actualmente en nuestra area de puesta en escena y ejecutara el flujo de trabajo de `git commit` para sobrescribir el commit anterior\n",
        "\n",
        "`git revert`  no solo significa deshacer, crea un commit que contiene el inverso de todos los cambios realizados en la confirmacion incorrecta para cancelarlos. creara un nuevo commit que es lo contrario que el commit dado.\n",
        "\n",
        "`git show` "
      ],
      "metadata": {
        "id": "d_5FJWm28QIn"
      }
    },
    {
      "cell_type": "markdown",
      "source": [
        "#`Branch` \n",
        "Es solo un puntero a una confirmacion particular, representa una linea independiente de desarrollo en un proyecto, del cual al compromiso que apunta es el ultimo eslabon de una cadena de historia en desarrollo.\n",
        "\n",
        "La rama pretedeterminada que `git` crea cuando un nuevo repositorio inicializado se llama master.\n",
        "\n",
        "La rama principal se utliza para representar el buen estado reconocido de un proyecto.\n",
        "\n",
        "`git branch` se usa para listar, crear, eliminar y manipular ramas. Al ejecutarlo se mostrara una lista de todas las ramas en su repositorio.\n",
        "\n",
        "`git checkout` cambia la rama al actualizar al actualizar la rama de trabajo para que coincida con la rama seleccionada.\n",
        "\n",
        "`git branch dash` Primero se enumeran las ramas actuales en el repositorio y luego se deshace la nueva rama caracteristrica llamando `git branch dash d-new feature`"
      ],
      "metadata": {
        "id": "GylnNJ1kEgzu"
      }
    }
  ]
}