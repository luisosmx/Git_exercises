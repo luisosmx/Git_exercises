{
  "nbformat": 4,
  "nbformat_minor": 0,
  "metadata": {
    "colab": {
      "provenance": [],
      "authorship_tag": "ABX9TyNBZtQGZvSbRiCJQdzvGGpY",
      "include_colab_link": true
    },
    "kernelspec": {
      "name": "python3",
      "display_name": "Python 3"
    },
    "language_info": {
      "name": "python"
    }
  },
  "cells": [
    {
      "cell_type": "markdown",
      "metadata": {
        "id": "view-in-github",
        "colab_type": "text"
      },
      "source": [
        "<a href=\"https://colab.research.google.com/github/luisosmx/Git_exercises/blob/main/Git_Coursera.ipynb\" target=\"_parent\"><img src=\"https://colab.research.google.com/assets/colab-badge.svg\" alt=\"Open In Colab\"/></a>"
      ]
    },
    {
      "cell_type": "markdown",
      "source": [
        "`git init` se inicializa un repositorio vacio en el directorio actual. El mensaje que recibimos menciona un directorio llamado `.git`\n",
        "\n",
        "Se puede comprobar que este comando existe utilizando el comando `ls-la` que enumera los archivos que comienzan con un punto\n",
        "\n",
        "Tambien se puede utilizar el comando `ls-l.git` para ver que hay dentro de el y visualizar las cosas diferentes que contiene\n",
        "\n",
        "A todo esto se le conoce como DIRECTORIO GIT"
      ],
      "metadata": {
        "id": "lmPe-dxNWeW1"
      }
    },
    {
      "cell_type": "markdown",
      "source": [
        "Staging area (INDEX) es un archivo mantenido por GIT que contiene toda la informacion acerca de que archivos y cambios van entrando en su sguiente comando \n",
        "\n",
        "`git status` este comando lo podemos utilizar para obtener informacion sobre el arbol de trabajo actual y cammbios pendientes"
      ],
      "metadata": {
        "id": "xigGk2uDZj07"
      }
    },
    {
      "cell_type": "markdown",
      "source": [
        "* Directorio GIT: Contiene el historial de los archivos y cambios \n",
        "* Arbol de trabajo: Contiene el estado actual del proyecto incluyendo cualquier cambio que se haya realizado\n",
        "* Area de ensayo: Contiene los cambios que se han marcado para ser incluidos en la proxima confirmacion"
      ],
      "metadata": {
        "id": "ZnNUUu6YarQ8"
      }
    },
    {
      "cell_type": "markdown",
      "source": [
        "`git commit` Se utiliza para iniciar una confirmacion de archivos por etapas. Git solo confirmara los cambios que se hayan agregado al area de ensayo, archivos sin seguimiento o archivos modificados que no fueron organizados seran ignorados.\n",
        "\n",
        "`check_reboot` Esta funcion verifica si el equipo esta pendiente de un reinicio."
      ],
      "metadata": {
        "id": "C5GYnJPudY2E"
      }
    },
    {
      "cell_type": "code",
      "source": [
        "import os \n",
        "\n",
        "def check_reboot():\n",
        "  \"\"\"Returns True if the computer has a pending reboot.\"\"\"\n",
        "  return os.path.exist(\"/run/reboot-required\"):\n",
        "def main():\n",
        "  pass\n",
        "\n",
        "main()"
      ],
      "metadata": {
        "id": "GWC3JkYTtgKV"
      },
      "execution_count": null,
      "outputs": []
    },
    {
      "cell_type": "markdown",
      "source": [
        "`git log` se puede utilizar el indicador `-p` la p proviene de `patch` por que el uso de esta bandera nos da el patch que se creo.\n",
        "\n",
        "Usando esta opcion es facil ver rapidamente que cambios se hicieron en los archivos de nuestro repositorio, esto es util si estamos rastreando un cambio quye recientemente rompio nuestras herramientas.\n",
        "\n",
        "`git show` Este comando toma un ID de confirmacion como parametro y mostrara la informacion sobre la confirmacion y el parche asociado. \n",
        "\n",
        "`git add` se usa para mostrar el cambio que se agrega y nos preguntan si queremos escenificar o no, de esta manera podemos detectar si hay algun cambio que no queremos confrimar "
      ],
      "metadata": {
        "id": "Be9x8Q2mijpY"
      }
    }
  ]
}