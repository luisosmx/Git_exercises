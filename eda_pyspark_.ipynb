{
  "nbformat": 4,
  "nbformat_minor": 0,
  "metadata": {
    "colab": {
      "provenance": [],
      "include_colab_link": true
    },
    "kernelspec": {
      "name": "python3",
      "display_name": "Python 3"
    },
    "language_info": {
      "name": "python"
    }
  },
  "cells": [
    {
      "cell_type": "markdown",
      "metadata": {
        "id": "view-in-github",
        "colab_type": "text"
      },
      "source": [
        "<a href=\"https://colab.research.google.com/github/luisosmx/Git_exercises/blob/main/eda_pyspark_.ipynb\" target=\"_parent\"><img src=\"https://colab.research.google.com/assets/colab-badge.svg\" alt=\"Open In Colab\"/></a>"
      ]
    },
    {
      "cell_type": "markdown",
      "metadata": {
        "id": "PaTIOCkCHrnI"
      },
      "source": [
        "# Setup"
      ]
    },
    {
      "cell_type": "code",
      "metadata": {
        "id": "JY2UBUP1HqwK",
        "colab": {
          "base_uri": "https://localhost:8080/"
        },
        "outputId": "b1e2eede-f8fe-497f-c6c8-c2bd8e79d64a"
      },
      "source": [
        "!apt-get install openjdk-8-jdk-headless -qq > /dev/null\n",
        "!wget -q http://archive.apache.org/dist/spark/spark-3.1.2/spark-3.1.2-bin-hadoop3.2.tgz\n",
        "!tar -xzf spark-3.1.2-bin-hadoop3.2.tgz\n",
        "!mv spark-3.1.2-bin-hadoop3.2.tgz /opt/spark-3.1.2\n",
        "!pip install -q findspark\n",
        "!pip install pyspark==3.1.2 \n",
        "!ln -s /opt/spark-3.1.2 /opt/spark\n",
        "!export SPARK_HOME=/opt/spark\n",
        "!export PATH=$SPARK_HOME/bin:$PATH"
      ],
      "execution_count": 1,
      "outputs": [
        {
          "output_type": "stream",
          "name": "stdout",
          "text": [
            "Looking in indexes: https://pypi.org/simple, https://us-python.pkg.dev/colab-wheels/public/simple/\n",
            "Collecting pyspark==3.1.2\n",
            "  Downloading pyspark-3.1.2.tar.gz (212.4 MB)\n",
            "\u001b[2K     \u001b[90m━━━━━━━━━━━━━━━━━━━━━━━━━━━━━━━━━━━━━━━\u001b[0m \u001b[32m212.4/212.4 MB\u001b[0m \u001b[31m5.8 MB/s\u001b[0m eta \u001b[36m0:00:00\u001b[0m\n",
            "\u001b[?25h  Preparing metadata (setup.py) ... \u001b[?25l\u001b[?25hdone\n",
            "Collecting py4j==0.10.9\n",
            "  Downloading py4j-0.10.9-py2.py3-none-any.whl (198 kB)\n",
            "\u001b[2K     \u001b[90m━━━━━━━━━━━━━━━━━━━━━━━━━━━━━━━━━━━━━━\u001b[0m \u001b[32m198.6/198.6 KB\u001b[0m \u001b[31m21.6 MB/s\u001b[0m eta \u001b[36m0:00:00\u001b[0m\n",
            "\u001b[?25hBuilding wheels for collected packages: pyspark\n",
            "  Building wheel for pyspark (setup.py) ... \u001b[?25l\u001b[?25hdone\n",
            "  Created wheel for pyspark: filename=pyspark-3.1.2-py2.py3-none-any.whl size=212880769 sha256=656498ad19836330c32017dbc1c1799a4ca63b2875348ed6ea6544a8a1b3a23a\n",
            "  Stored in directory: /root/.cache/pip/wheels/df/88/9e/58ef1f74892fef590330ca0830b5b6d995ba29b44f977b3926\n",
            "Successfully built pyspark\n",
            "Installing collected packages: py4j, pyspark\n",
            "Successfully installed py4j-0.10.9 pyspark-3.1.2\n"
          ]
        }
      ]
    },
    {
      "cell_type": "code",
      "source": [
        "!pip install pyspark==3.1.2 "
      ],
      "metadata": {
        "id": "O1G5AE0JVE14",
        "colab": {
          "base_uri": "https://localhost:8080/"
        },
        "outputId": "57819e70-68cb-4024-aaa0-19f4c6229cbb"
      },
      "execution_count": 2,
      "outputs": [
        {
          "output_type": "stream",
          "name": "stdout",
          "text": [
            "Looking in indexes: https://pypi.org/simple, https://us-python.pkg.dev/colab-wheels/public/simple/\n",
            "Requirement already satisfied: pyspark==3.1.2 in /usr/local/lib/python3.8/dist-packages (3.1.2)\n",
            "Requirement already satisfied: py4j==0.10.9 in /usr/local/lib/python3.8/dist-packages (from pyspark==3.1.2) (0.10.9)\n"
          ]
        }
      ]
    },
    {
      "cell_type": "code",
      "source": [
        "pip freeze"
      ],
      "metadata": {
        "id": "WoWcUVo-VTww"
      },
      "execution_count": null,
      "outputs": []
    },
    {
      "cell_type": "code",
      "metadata": {
        "id": "BWFsts1yI2vx",
        "colab": {
          "base_uri": "https://localhost:8080/"
        },
        "outputId": "dfff8b23-9b36-42f6-817d-76c44775c58a"
      },
      "source": [
        "import os\n",
        "import findspark\n",
        "\n",
        "import pyspark\n",
        "from pyspark import SparkContext, SparkConf\n",
        "from pyspark.sql import Row\n",
        "from pyspark.sql import SQLContext\n",
        "from pyspark.sql import SparkSession\n",
        "\n",
        "os.environ['JAVA_HOME'] = '/usr/lib/jvm/java-8-openjdk-amd64'\n",
        "os.environ['SPARK_HOME'] = '/content/spark-3.1.2-bin-hadoop3.2'\n",
        "#os.environ['PYSPARK_SUBMIT_ARGS'] = '--packages com.amazonaws:aws-java-sdk:1.10.34,org.apache.hadoop:hadoop-aws:2.6.0 pyspark-shell'\n",
        "os.environ['PYSPARK_SUBMIT_ARGS'] = '--packages com.amazonaws:aws-java-sdk:1.10.34,org.apache.hadoop:hadoop-aws:2.7.2 pyspark-shell'\n",
        "\n",
        "findspark.init()\n",
        "\n",
        "sc = pyspark.SparkContext(\"local[*]\")\n",
        "spark = SparkSession(sc)\n",
        "\n",
        "print('Modules imported and Spark loaded')"
      ],
      "execution_count": 4,
      "outputs": [
        {
          "output_type": "stream",
          "name": "stdout",
          "text": [
            "Modules imported and Spark loaded\n"
          ]
        }
      ]
    },
    {
      "cell_type": "markdown",
      "metadata": {
        "id": "MfD90BHevlbG"
      },
      "source": [
        "# Loading data into PySpark"
      ]
    },
    {
      "cell_type": "markdown",
      "metadata": {
        "id": "9e1baC18ybZ4"
      },
      "source": [
        "Getting data from Github repo without clonning the project, just using [raw.githubusercontent.com](https://stackoverflow.com/questions/39065921/what-do-raw-githubusercontent-com-urls-represent)"
      ]
    },
    {
      "cell_type": "code",
      "metadata": {
        "id": "Tv0MNyJHJV02",
        "colab": {
          "base_uri": "https://localhost:8080/"
        },
        "outputId": "eb5b1bed-c95c-465a-8405-5b57793f70f4"
      },
      "source": [
        "!wget --continue /content/afluenciastc_simple_01_2023.csv"
      ],
      "execution_count": 5,
      "outputs": [
        {
          "output_type": "stream",
          "name": "stdout",
          "text": [
            "/content/afluenciastc_simple_01_2023.csv: Scheme missing.\n"
          ]
        }
      ]
    },
    {
      "cell_type": "markdown",
      "metadata": {
        "id": "wajfiPtGyuyu"
      },
      "source": [
        "Reading the file with a Spark dataframe"
      ]
    },
    {
      "cell_type": "code",
      "metadata": {
        "id": "0eYhKMt9xQjV",
        "outputId": "b5d48670-bb8c-470a-c175-4cd2862aed80",
        "colab": {
          "base_uri": "https://localhost:8080/"
        }
      },
      "source": [
        "spark_df = spark.read.csv('/content/afluenciastc_simple_01_2023.csv')\n",
        "spark_df.show(50)"
      ],
      "execution_count": 7,
      "outputs": [
        {
          "output_type": "stream",
          "name": "stdout",
          "text": [
            "+----------+----+-----+-------+-------------------+---------+\n",
            "|       _c0| _c1|  _c2|    _c3|                _c4|      _c5|\n",
            "+----------+----+-----+-------+-------------------+---------+\n",
            "|     fecha|anio|  mes|  linea|           estacion|afluencia|\n",
            "|2010-01-01|2010|Enero|Linea 1|           Zaragoza|    20227|\n",
            "|2010-01-01|2010|Enero|Linea 1| Isabel la Católica|     6487|\n",
            "|2010-01-01|2010|Enero|Linea 1|          Moctezuma|    10304|\n",
            "|2010-01-01|2010|Enero|Linea 1|        Pino Suárez|     8679|\n",
            "|2010-01-01|2010|Enero|Linea 1|       Gómez Farías|    19499|\n",
            "|2010-01-01|2010|Enero|Linea 6|Deptvo. 18 de Marzo|      621|\n",
            "|2010-01-01|2010|Enero|Linea 6|  La Villa-Basilica|    24792|\n",
            "|2010-01-01|2010|Enero|Linea 9|          Pantitlán|    27000|\n",
            "|2010-01-01|2010|Enero|Linea 8|             Aculco|     3652|\n",
            "|2010-01-01|2010|Enero|Linea 9|          Velódromo|     3239|\n",
            "|2010-01-01|2010|Enero|Linea 5|Autobuses del Norte|    16824|\n",
            "|2010-01-01|2010|Enero|Linea 5|          Misterios|     3513|\n",
            "|2010-01-01|2010|Enero|Linea 7|     Constituyentes|     1417|\n",
            "|2010-01-01|2010|Enero|Linea 7|          Refinería|     2325|\n",
            "|2010-01-01|2010|Enero|Linea 3|            Etiopía|     7078|\n",
            "|2010-01-01|2010|Enero|Linea 7|            Polanco|     6173|\n",
            "|2010-01-01|2010|Enero|Linea 4|    Canal del Norte|     2317|\n",
            "|2010-01-01|2010|Enero|Linea 4|          Bondojito|     2474|\n",
            "|2010-01-01|2010|Enero|Linea 4|        Santa Anita|     1042|\n",
            "|2010-01-01|2010|Enero|Linea 2|            Popotla|     2419|\n",
            "|2010-01-01|2010|Enero|Linea 2|      General Anaya|     6819|\n",
            "|2010-01-01|2010|Enero|Linea 3| División del Norte|     2417|\n",
            "|2010-01-01|2010|Enero|Linea 3|             Zapata|     7334|\n",
            "|2010-01-01|2010|Enero|Linea 4|      Fray Servando|     2667|\n",
            "|2010-01-01|2010|Enero|Linea 5|           Hangares|     1826|\n",
            "|2010-01-01|2010|Enero|Linea 5|          Pantitlán|    38694|\n",
            "|2010-01-01|2010|Enero|Linea 6|         El Rosario|     7912|\n",
            "|2010-01-01|2010|Enero|Linea 6|           Ferrería|     2370|\n",
            "|2010-01-01|2010|Enero|Linea 6| Inst. del Petróleo|      362|\n",
            "|2010-01-01|2010|Enero|Linea 8|             Coyuya|     5322|\n",
            "|2010-01-01|2010|Enero|Linea 8|           Apatlaco|     5122|\n",
            "|2010-01-01|2010|Enero|Linea 8|            La Viga|     2790|\n",
            "|2010-01-01|2010|Enero|Linea 8|          Chabacano|     1927|\n",
            "|2010-01-01|2010|Enero|Linea 8|    San Juan Letrán|     9869|\n",
            "|2010-01-01|2010|Enero|Linea 7|Barranca del Muerto|     5684|\n",
            "|2010-01-01|2010|Enero|Linea B|          Garibaldi|     2901|\n",
            "|2010-01-01|2010|Enero|Linea B|         Buenavista|    16083|\n",
            "|2010-01-01|2010|Enero|Linea B|           Guerrero|     1019|\n",
            "|2010-01-01|2010|Enero|Linea B|            Oceanía|     3519|\n",
            "|2010-01-01|2010|Enero|Linea B|     Nezahualcóyotl|     9094|\n",
            "|2010-01-01|2010|Enero|Linea 2|         Revolución|     7441|\n",
            "|2010-01-01|2010|Enero|Linea 3|      Indios Verdes|    50075|\n",
            "|2010-01-01|2010|Enero|Linea 3|            Hidalgo|    15418|\n",
            "|2010-01-01|2010|Enero|Linea 2|    Colegio Militar|     4062|\n",
            "|2010-01-01|2010|Enero|Linea 2|             Normal|     9443|\n",
            "|2010-01-01|2010|Enero|Linea 2|          San Cosme|     6343|\n",
            "|2010-01-01|2010|Enero|Linea 3|             Juárez|     3276|\n",
            "|2010-01-01|2010|Enero|Linea 3|Deptvo. 18 de Marzo|    27968|\n",
            "|2010-01-01|2010|Enero|Linea B|           Olímpica|     8569|\n",
            "+----------+----+-----+-------+-------------------+---------+\n",
            "only showing top 50 rows\n",
            "\n"
          ]
        }
      ]
    },
    {
      "cell_type": "code",
      "metadata": {
        "id": "TAs3RoXyzDdq"
      },
      "source": [],
      "execution_count": null,
      "outputs": []
    }
  ]
}