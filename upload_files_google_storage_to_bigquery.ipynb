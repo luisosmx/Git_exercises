{
  "nbformat": 4,
  "nbformat_minor": 0,
  "metadata": {
    "colab": {
      "provenance": [],
      "authorship_tag": "ABX9TyPPqPpqM+vjrudzZIuRn8sm",
      "include_colab_link": true
    },
    "kernelspec": {
      "name": "python3",
      "display_name": "Python 3"
    },
    "language_info": {
      "name": "python"
    }
  },
  "cells": [
    {
      "cell_type": "markdown",
      "metadata": {
        "id": "view-in-github",
        "colab_type": "text"
      },
      "source": [
        "<a href=\"https://colab.research.google.com/github/luisosmx/Git_exercises/blob/main/upload_files_google_storage_to_bigquery.ipynb\" target=\"_parent\"><img src=\"https://colab.research.google.com/assets/colab-badge.svg\" alt=\"Open In Colab\"/></a>"
      ]
    },
    {
      "cell_type": "code",
      "source": [
        "from google.colab import auth\n",
        "auth.authenticate_user()"
      ],
      "metadata": {
        "id": "VXBfRn-ff6An"
      },
      "execution_count": 6,
      "outputs": []
    },
    {
      "cell_type": "code",
      "source": [
        "import pandas as pd\n",
        "from google.cloud import storage\n",
        "from io import BytesIO"
      ],
      "metadata": {
        "id": "osKzSfGnhfr3"
      },
      "execution_count": 11,
      "outputs": []
    },
    {
      "cell_type": "code",
      "source": [
        "project_id = 'calm-dragon-378604'\n",
        "bucket_name = 'files_csv_lms'\n",
        "\n",
        "client = storage.Client(project=project_id)\n",
        "bucket = client.get_bucket(bucket_name)\n",
        "\n",
        "csv_filename = 'movie_review.csv'\n",
        "\n",
        "blob = bucket.blob(csv_filename)\n",
        "\n",
        "csv_data = blob.download_as_string()\n",
        "\n",
        "csv_text = csv_data.decode('utf-8')\n",
        "\n",
        "print(csv_text)"
      ],
      "metadata": {
        "id": "ewIW9opYhhIN",
        "colab": {
          "base_uri": "https://localhost:8080/"
        },
        "outputId": "b42b4446-6e2b-4d0c-8ee4-c2f2b0ee5ef5"
      },
      "execution_count": 13,
      "outputs": [
        {
          "output_type": "stream",
          "name": "stderr",
          "text": [
            "IOPub data rate exceeded.\n",
            "The notebook server will temporarily stop sending output\n",
            "to the client in order to avoid crashing it.\n",
            "To change this limit, set the config variable\n",
            "`--NotebookApp.iopub_data_rate_limit`.\n",
            "\n",
            "Current values:\n",
            "NotebookApp.iopub_data_rate_limit=1000000.0 (bytes/sec)\n",
            "NotebookApp.rate_limit_window=3.0 (secs)\n",
            "\n"
          ]
        }
      ]
    },
    {
      "cell_type": "code",
      "source": [
        "file_name = 'movie_review.csv'"
      ],
      "metadata": {
        "id": "QaOQHnuchm2N"
      },
      "execution_count": 14,
      "outputs": []
    },
    {
      "cell_type": "code",
      "source": [
        "blob = bucket.blob(file_name)\n",
        "content = blob.download_as_string()\n",
        "#Aqui se encuentra definido el dataframe = df\n",
        "df = pd.read_csv(BytesIO(csv_data))"
      ],
      "metadata": {
        "id": "LTtaMojXhz4p"
      },
      "execution_count": 15,
      "outputs": []
    },
    {
      "cell_type": "code",
      "source": [
        "df.head(10)"
      ],
      "metadata": {
        "colab": {
          "base_uri": "https://localhost:8080/",
          "height": 363
        },
        "id": "-a11Bn0Vi9CO",
        "outputId": "2610bb0a-fed4-4076-c9b0-47da9d3f6da9"
      },
      "execution_count": 16,
      "outputs": [
        {
          "output_type": "execute_result",
          "data": {
            "text/plain": [
              "     cid                                         review_str  id_review\n",
              "0  13756  Once again Mr. Costner has dragged out a movie...          1\n",
              "1  15738  This is an example of why the majority of acti...          2\n",
              "2  15727  First of all I hate those moronic rappers, who...          3\n",
              "3  17954  Not even the Beatles could write songs everyon...          4\n",
              "4  16579  Brass pictures (movies is not a fitting word f...          5\n",
              "5  14841  A funny thing happened to me while watching Mo...          6\n",
              "6  18085  This German horror film has to be one of the w...          7\n",
              "7  16365  Being a long-time fan of Japanese film, I expe...          8\n",
              "8  17912  Tokyo Eyes tells of a 17 year old Japanese gir...          9\n",
              "9  15100  Wealthy horse ranchers in Buenos Aires have a ...         10"
            ],
            "text/html": [
              "\n",
              "  <div id=\"df-b4258eff-4dbe-41ed-8d79-41eaee444717\">\n",
              "    <div class=\"colab-df-container\">\n",
              "      <div>\n",
              "<style scoped>\n",
              "    .dataframe tbody tr th:only-of-type {\n",
              "        vertical-align: middle;\n",
              "    }\n",
              "\n",
              "    .dataframe tbody tr th {\n",
              "        vertical-align: top;\n",
              "    }\n",
              "\n",
              "    .dataframe thead th {\n",
              "        text-align: right;\n",
              "    }\n",
              "</style>\n",
              "<table border=\"1\" class=\"dataframe\">\n",
              "  <thead>\n",
              "    <tr style=\"text-align: right;\">\n",
              "      <th></th>\n",
              "      <th>cid</th>\n",
              "      <th>review_str</th>\n",
              "      <th>id_review</th>\n",
              "    </tr>\n",
              "  </thead>\n",
              "  <tbody>\n",
              "    <tr>\n",
              "      <th>0</th>\n",
              "      <td>13756</td>\n",
              "      <td>Once again Mr. Costner has dragged out a movie...</td>\n",
              "      <td>1</td>\n",
              "    </tr>\n",
              "    <tr>\n",
              "      <th>1</th>\n",
              "      <td>15738</td>\n",
              "      <td>This is an example of why the majority of acti...</td>\n",
              "      <td>2</td>\n",
              "    </tr>\n",
              "    <tr>\n",
              "      <th>2</th>\n",
              "      <td>15727</td>\n",
              "      <td>First of all I hate those moronic rappers, who...</td>\n",
              "      <td>3</td>\n",
              "    </tr>\n",
              "    <tr>\n",
              "      <th>3</th>\n",
              "      <td>17954</td>\n",
              "      <td>Not even the Beatles could write songs everyon...</td>\n",
              "      <td>4</td>\n",
              "    </tr>\n",
              "    <tr>\n",
              "      <th>4</th>\n",
              "      <td>16579</td>\n",
              "      <td>Brass pictures (movies is not a fitting word f...</td>\n",
              "      <td>5</td>\n",
              "    </tr>\n",
              "    <tr>\n",
              "      <th>5</th>\n",
              "      <td>14841</td>\n",
              "      <td>A funny thing happened to me while watching Mo...</td>\n",
              "      <td>6</td>\n",
              "    </tr>\n",
              "    <tr>\n",
              "      <th>6</th>\n",
              "      <td>18085</td>\n",
              "      <td>This German horror film has to be one of the w...</td>\n",
              "      <td>7</td>\n",
              "    </tr>\n",
              "    <tr>\n",
              "      <th>7</th>\n",
              "      <td>16365</td>\n",
              "      <td>Being a long-time fan of Japanese film, I expe...</td>\n",
              "      <td>8</td>\n",
              "    </tr>\n",
              "    <tr>\n",
              "      <th>8</th>\n",
              "      <td>17912</td>\n",
              "      <td>Tokyo Eyes tells of a 17 year old Japanese gir...</td>\n",
              "      <td>9</td>\n",
              "    </tr>\n",
              "    <tr>\n",
              "      <th>9</th>\n",
              "      <td>15100</td>\n",
              "      <td>Wealthy horse ranchers in Buenos Aires have a ...</td>\n",
              "      <td>10</td>\n",
              "    </tr>\n",
              "  </tbody>\n",
              "</table>\n",
              "</div>\n",
              "      <button class=\"colab-df-convert\" onclick=\"convertToInteractive('df-b4258eff-4dbe-41ed-8d79-41eaee444717')\"\n",
              "              title=\"Convert this dataframe to an interactive table.\"\n",
              "              style=\"display:none;\">\n",
              "        \n",
              "  <svg xmlns=\"http://www.w3.org/2000/svg\" height=\"24px\"viewBox=\"0 0 24 24\"\n",
              "       width=\"24px\">\n",
              "    <path d=\"M0 0h24v24H0V0z\" fill=\"none\"/>\n",
              "    <path d=\"M18.56 5.44l.94 2.06.94-2.06 2.06-.94-2.06-.94-.94-2.06-.94 2.06-2.06.94zm-11 1L8.5 8.5l.94-2.06 2.06-.94-2.06-.94L8.5 2.5l-.94 2.06-2.06.94zm10 10l.94 2.06.94-2.06 2.06-.94-2.06-.94-.94-2.06-.94 2.06-2.06.94z\"/><path d=\"M17.41 7.96l-1.37-1.37c-.4-.4-.92-.59-1.43-.59-.52 0-1.04.2-1.43.59L10.3 9.45l-7.72 7.72c-.78.78-.78 2.05 0 2.83L4 21.41c.39.39.9.59 1.41.59.51 0 1.02-.2 1.41-.59l7.78-7.78 2.81-2.81c.8-.78.8-2.07 0-2.86zM5.41 20L4 18.59l7.72-7.72 1.47 1.35L5.41 20z\"/>\n",
              "  </svg>\n",
              "      </button>\n",
              "      \n",
              "  <style>\n",
              "    .colab-df-container {\n",
              "      display:flex;\n",
              "      flex-wrap:wrap;\n",
              "      gap: 12px;\n",
              "    }\n",
              "\n",
              "    .colab-df-convert {\n",
              "      background-color: #E8F0FE;\n",
              "      border: none;\n",
              "      border-radius: 50%;\n",
              "      cursor: pointer;\n",
              "      display: none;\n",
              "      fill: #1967D2;\n",
              "      height: 32px;\n",
              "      padding: 0 0 0 0;\n",
              "      width: 32px;\n",
              "    }\n",
              "\n",
              "    .colab-df-convert:hover {\n",
              "      background-color: #E2EBFA;\n",
              "      box-shadow: 0px 1px 2px rgba(60, 64, 67, 0.3), 0px 1px 3px 1px rgba(60, 64, 67, 0.15);\n",
              "      fill: #174EA6;\n",
              "    }\n",
              "\n",
              "    [theme=dark] .colab-df-convert {\n",
              "      background-color: #3B4455;\n",
              "      fill: #D2E3FC;\n",
              "    }\n",
              "\n",
              "    [theme=dark] .colab-df-convert:hover {\n",
              "      background-color: #434B5C;\n",
              "      box-shadow: 0px 1px 3px 1px rgba(0, 0, 0, 0.15);\n",
              "      filter: drop-shadow(0px 1px 2px rgba(0, 0, 0, 0.3));\n",
              "      fill: #FFFFFF;\n",
              "    }\n",
              "  </style>\n",
              "\n",
              "      <script>\n",
              "        const buttonEl =\n",
              "          document.querySelector('#df-b4258eff-4dbe-41ed-8d79-41eaee444717 button.colab-df-convert');\n",
              "        buttonEl.style.display =\n",
              "          google.colab.kernel.accessAllowed ? 'block' : 'none';\n",
              "\n",
              "        async function convertToInteractive(key) {\n",
              "          const element = document.querySelector('#df-b4258eff-4dbe-41ed-8d79-41eaee444717');\n",
              "          const dataTable =\n",
              "            await google.colab.kernel.invokeFunction('convertToInteractive',\n",
              "                                                     [key], {});\n",
              "          if (!dataTable) return;\n",
              "\n",
              "          const docLinkHtml = 'Like what you see? Visit the ' +\n",
              "            '<a target=\"_blank\" href=https://colab.research.google.com/notebooks/data_table.ipynb>data table notebook</a>'\n",
              "            + ' to learn more about interactive tables.';\n",
              "          element.innerHTML = '';\n",
              "          dataTable['output_type'] = 'display_data';\n",
              "          await google.colab.output.renderOutput(dataTable, element);\n",
              "          const docLink = document.createElement('div');\n",
              "          docLink.innerHTML = docLinkHtml;\n",
              "          element.appendChild(docLink);\n",
              "        }\n",
              "      </script>\n",
              "    </div>\n",
              "  </div>\n",
              "  "
            ]
          },
          "metadata": {},
          "execution_count": 16
        }
      ]
    },
    {
      "cell_type": "code",
      "source": [
        "print(df.dtypes)"
      ],
      "metadata": {
        "colab": {
          "base_uri": "https://localhost:8080/"
        },
        "id": "3tr2u1ZdjVgG",
        "outputId": "002085e6-90a4-4a32-fd9b-9edded806a73"
      },
      "execution_count": 17,
      "outputs": [
        {
          "output_type": "stream",
          "name": "stdout",
          "text": [
            "cid            int64\n",
            "review_str    object\n",
            "id_review      int64\n",
            "dtype: object\n"
          ]
        }
      ]
    },
    {
      "cell_type": "code",
      "source": [
        "df['review_str'] = df['review_str'].astype('string')"
      ],
      "metadata": {
        "id": "zNGG8NOBkS-d"
      },
      "execution_count": 18,
      "outputs": []
    },
    {
      "cell_type": "code",
      "source": [
        "print(df['review_str'].dtype)"
      ],
      "metadata": {
        "colab": {
          "base_uri": "https://localhost:8080/"
        },
        "id": "GE0zNsF3kYg-",
        "outputId": "a60aba62-bb07-43eb-9d93-c5a45c677953"
      },
      "execution_count": 19,
      "outputs": [
        {
          "output_type": "stream",
          "name": "stdout",
          "text": [
            "string\n"
          ]
        }
      ]
    },
    {
      "cell_type": "code",
      "source": [
        "print(df.dtypes)"
      ],
      "metadata": {
        "id": "6HP1t5OOfQlB",
        "colab": {
          "base_uri": "https://localhost:8080/"
        },
        "outputId": "6b7f37d0-e8cb-426e-b6fa-21aada219fd9"
      },
      "execution_count": 20,
      "outputs": [
        {
          "output_type": "stream",
          "name": "stdout",
          "text": [
            "cid            int64\n",
            "review_str    string\n",
            "id_review      int64\n",
            "dtype: object\n"
          ]
        }
      ]
    },
    {
      "cell_type": "code",
      "source": [
        "from google.cloud import bigquery"
      ],
      "metadata": {
        "id": "qmUQN1lPlcAE"
      },
      "execution_count": 21,
      "outputs": []
    },
    {
      "cell_type": "code",
      "source": [
        "client = bigquery.Client.from_service_account_json('/content/calm-dragon-378604-5b5edf465d57.json')"
      ],
      "metadata": {
        "id": "0zlXSBz9ldaD"
      },
      "execution_count": 31,
      "outputs": []
    },
    {
      "cell_type": "code",
      "source": [
        "table_id = 'calm-dragon-378604.exercise_gcp.movie_review'\n",
        "\n",
        "schema_movie = [\n",
        "    bigquery.SchemaField('cid', 'int64', mode='NULLABLE'),\n",
        "    bigquery.SchemaField('review_str', 'string', mode='NULLABLE'),\n",
        "    bigquery.SchemaField('id_review', 'int64', mode='NULLABLE')\n",
        "]"
      ],
      "metadata": {
        "id": "5l5NFbeil1Xc"
      },
      "execution_count": 32,
      "outputs": []
    },
    {
      "cell_type": "code",
      "source": [
        "job_config_movie = bigquery.LoadJobConfig(\n",
        "  \n",
        "    schema=schema_movie,\n",
        "    \n",
        "    write_disposition=\"WRITE_TRUNCATE\",\n",
        ")"
      ],
      "metadata": {
        "id": "TEcxlZUsmGwl"
      },
      "execution_count": 33,
      "outputs": []
    },
    {
      "cell_type": "code",
      "source": [
        "job = client.load_table_from_dataframe(\n",
        "      df, table_id, job_config=job_config_movie\n",
        "  )  # Make an API request.\n",
        "job.result()  # Wait for the job to complete.\n",
        "\n",
        "table = client.get_table(table_id)  # Make an API request.\n",
        "print(\n",
        "      \"Loaded {} rows and {} columns to {}\".format(\n",
        "          table.num_rows, len(table.schema), table_id\n",
        "      )\n",
        "  )\n",
        " "
      ],
      "metadata": {
        "id": "-pxjs-5EfNq8",
        "colab": {
          "base_uri": "https://localhost:8080/"
        },
        "outputId": "fe76f51e-f1c3-4ec4-f8f8-923660d7fa36"
      },
      "execution_count": 34,
      "outputs": [
        {
          "output_type": "stream",
          "name": "stdout",
          "text": [
            "Loaded 100000 rows and 3 columns to calm-dragon-378604.exercise_gcp.movie_review\n"
          ]
        }
      ]
    },
    {
      "cell_type": "code",
      "source": [
        "#library\n",
        "import pandas as pd\n",
        "from google.cloud import storage\n",
        "from io import BytesIO\n",
        "from google.cloud import bigquery\n",
        "\n",
        "#variable\n",
        "project_id = 'calm-dragon-378604'\n",
        "bucket_name = 'files_csv_lms'\n",
        "\n",
        "client = storage.Client(project=project_id)\n",
        "bucket = client.get_bucket(bucket_name)\n",
        "\n",
        "csv_filename = 'movie_review.csv'\n",
        "\n",
        "blob = bucket.blob(csv_filename)\n",
        "\n",
        "csv_data = blob.download_as_string()\n",
        "\n",
        "csv_text = csv_data.decode('utf-8')\n",
        "\n",
        "file_name = 'movie_review.csv'\n",
        "\n",
        "print(csv_text)\n",
        "\n",
        "#download file from bucket\n",
        "blob = bucket.blob(file_name)\n",
        "content = blob.download_as_string()\n",
        "\n",
        "#Here is defined the dataframe = df\n",
        "df = pd.read_csv(BytesIO(csv_data))\n",
        "\n",
        "#function to display the first rows of a df\n",
        "df.head(10)\n",
        "\n",
        "#function to show the type of files in df\n",
        "print(df.dtypes)\n",
        "\n",
        "#code that allows converting files of type 'object' to 'string'\n",
        "df['review_str'] = df['review_str'].astype('string')\n",
        "\n",
        "#with this function we confirm that the conversion has been done\n",
        "print(df['review_str'].dtype)\n",
        "\n",
        "#get authentication credentials from a JSON file\n",
        "client = bigquery.Client.from_service_account_json('/content/calm-dragon-378604-5b5edf465d57.json')\n",
        "\n",
        "#This code defines the schema of a table in BigQuery\n",
        "table_id = 'calm-dragon-378604.exercise_gcp.movie_review'\n",
        "\n",
        "schema_movie = [\n",
        "    bigquery.SchemaField('cid', 'int64', mode='NULLABLE'),\n",
        "    bigquery.SchemaField('review_str', 'string', mode='NULLABLE'),\n",
        "    bigquery.SchemaField('id_review', 'int64', mode='NULLABLE')\n",
        "]\n",
        "\n",
        "#This code will be used to set up a data load job in BigQuery\n",
        "\n",
        "job_config_movie = bigquery.LoadJobConfig(\n",
        "  \n",
        "    schema=schema_movie,\n",
        "    \n",
        "    write_disposition=\"WRITE_TRUNCATE\",\n",
        ")\n",
        "\n",
        "#With this code we load the data from the df to the bigquery table\n",
        "job = client.load_table_from_dataframe(\n",
        "      df, table_id, job_config=job_config_movie\n",
        "  )  # Make an API request.\n",
        "job.result()  # Wait for the job to complete.\n",
        "\n",
        "table = client.get_table(table_id)  # Make an API request.\n",
        "print(\n",
        "      \"Loaded {} rows and {} columns to {}\".format(\n",
        "          table.num_rows, len(table.schema), table_id\n",
        "      )\n",
        "  )"
      ],
      "metadata": {
        "colab": {
          "base_uri": "https://localhost:8080/"
        },
        "id": "hhmZJ79ptAdj",
        "outputId": "04a56144-a88b-4175-8802-a4c8113c5546"
      },
      "execution_count": 35,
      "outputs": [
        {
          "output_type": "stream",
          "name": "stderr",
          "text": [
            "IOPub data rate exceeded.\n",
            "The notebook server will temporarily stop sending output\n",
            "to the client in order to avoid crashing it.\n",
            "To change this limit, set the config variable\n",
            "`--NotebookApp.iopub_data_rate_limit`.\n",
            "\n",
            "Current values:\n",
            "NotebookApp.iopub_data_rate_limit=1000000.0 (bytes/sec)\n",
            "NotebookApp.rate_limit_window=3.0 (secs)\n",
            "\n"
          ]
        },
        {
          "output_type": "stream",
          "name": "stdout",
          "text": [
            "cid            int64\n",
            "review_str    object\n",
            "id_review      int64\n",
            "dtype: object\n",
            "string\n",
            "Loaded 100000 rows and 3 columns to calm-dragon-378604.exercise_gcp.movie_review\n"
          ]
        }
      ]
    }
  ]
}