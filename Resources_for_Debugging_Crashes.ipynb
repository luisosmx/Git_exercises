{
  "nbformat": 4,
  "nbformat_minor": 0,
  "metadata": {
    "colab": {
      "provenance": [],
      "authorship_tag": "ABX9TyNINGq6p0Bo+Yx0AiaPDT3x",
      "include_colab_link": true
    },
    "kernelspec": {
      "name": "python3",
      "display_name": "Python 3"
    },
    "language_info": {
      "name": "python"
    }
  },
  "cells": [
    {
      "cell_type": "markdown",
      "metadata": {
        "id": "view-in-github",
        "colab_type": "text"
      },
      "source": [
        "<a href=\"https://colab.research.google.com/github/luisosmx/Git_exercises/blob/main/Resources_for_Debugging_Crashes.ipynb\" target=\"_parent\"><img src=\"https://colab.research.google.com/assets/colab-badge.svg\" alt=\"Open In Colab\"/></a>"
      ]
    },
    {
      "cell_type": "markdown",
      "source": [
        "#Check out the following links for more information:\n",
        "\n",
        "https://realpython.com/python-concurrency/\n",
        "\n",
        "https://hackernoon.com/threaded-asynchronous-magic-and-how-to-wield-it-bba9ed602c32\n",
        "\n",
        "https://stackoverflow.com/questions/33047452/definitive-list-of-common-reasons-for-segmentation-faults\n",
        "\n",
        "https://sites.google.com/a/case.edu/hpcc/home/important-notes-for-new-users/debugging-segmentation-faults\n",
        "\n"
      ],
      "metadata": {
        "id": "nNLVFOYgZ8FZ"
      }
    },
    {
      "cell_type": "markdown",
      "source": [
        "#Readable Python code on GitHub:\n",
        "\n",
        "https://github.com/fogleman/Minecraft\n",
        "\n",
        "https://github.com/cherrypy/cherrypy\n",
        "\n",
        "https://github.com/pallets/flask\n",
        "\n",
        "https://github.com/tornadoweb/tornado\n",
        "\n",
        "https://github.com/gleitz/howdoi\n",
        "\n",
        "https://github.com/bottlepy/bottle/blob/master/bottle.py\n",
        "\n",
        "https://github.com/sqlalchemy/sqlalchemy"
      ],
      "metadata": {
        "id": "Y3PzSWOkaFyR"
      }
    },
    {
      "cell_type": "code",
      "execution_count": null,
      "metadata": {
        "id": "rpfp9KqoZ1iu"
      },
      "outputs": [],
      "source": []
    }
  ]
}