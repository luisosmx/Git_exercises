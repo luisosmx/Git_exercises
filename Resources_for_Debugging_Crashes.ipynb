{
  "nbformat": 4,
  "nbformat_minor": 0,
  "metadata": {
    "colab": {
      "provenance": [],
      "authorship_tag": "ABX9TyONDNTF4vwnvTdXMdfKgOAW",
      "include_colab_link": true
    },
    "kernelspec": {
      "name": "python3",
      "display_name": "Python 3"
    },
    "language_info": {
      "name": "python"
    }
  },
  "cells": [
    {
      "cell_type": "markdown",
      "metadata": {
        "id": "view-in-github",
        "colab_type": "text"
      },
      "source": [
        "<a href=\"https://colab.research.google.com/github/luisosmx/Git_exercises/blob/main/Resources_for_Debugging_Crashes.ipynb\" target=\"_parent\"><img src=\"https://colab.research.google.com/assets/colab-badge.svg\" alt=\"Open In Colab\"/></a>"
      ]
    },
    {
      "cell_type": "markdown",
      "source": [
        "#Check out the following links for more information:\n",
        "\n",
        "https://realpython.com/python-concurrency/\n",
        "\n",
        "https://hackernoon.com/threaded-asynchronous-magic-and-how-to-wield-it-bba9ed602c32\n",
        "\n",
        "https://stackoverflow.com/questions/33047452/definitive-list-of-common-reasons-for-segmentation-faults\n",
        "\n",
        "https://sites.google.com/a/case.edu/hpcc/home/important-notes-for-new-users/debugging-segmentation-faults\n",
        "\n"
      ],
      "metadata": {
        "id": "nNLVFOYgZ8FZ"
      }
    },
    {
      "cell_type": "markdown",
      "source": [
        "#Readable Python code on GitHub:\n",
        "\n",
        "https://github.com/fogleman/Minecraft\n",
        "\n",
        "https://github.com/cherrypy/cherrypy\n",
        "\n",
        "https://github.com/pallets/flask\n",
        "\n",
        "https://github.com/tornadoweb/tornado\n",
        "\n",
        "https://github.com/gleitz/howdoi\n",
        "\n",
        "https://github.com/bottlepy/bottle/blob/master/bottle.py\n",
        "\n",
        "https://github.com/sqlalchemy/sqlalchemy"
      ],
      "metadata": {
        "id": "Y3PzSWOkaFyR"
      }
    },
    {
      "cell_type": "code",
      "execution_count": null,
      "metadata": {
        "id": "rpfp9KqoZ1iu"
      },
      "outputs": [],
      "source": []
    },
    {
      "cell_type": "markdown",
      "source": [
        "#More About Managing Resources\n",
        "\n",
        "Check out the following links for more information:\n",
        "\n",
        "https://realpython.com/python-concurrency/\n",
        "\n",
        "https://hackernoon.com/threaded-asynchronous-magic-and-how-to-wield-it-bba9ed602c32\n",
        "\n",
        "https://www.pluralsight.com/blog/tutorials/how-to-profile-memory-usage-in-python\n",
        "\n",
        "https://www.linuxjournal.com/content/troubleshooting-network-problems"
      ],
      "metadata": {
        "id": "4HtO-4H3DFXk"
      }
    },
    {
      "cell_type": "markdown",
      "source": [
        "#Debugging and Solving Software Problems\n",
        "\n",
        "Improve performance\n",
        "Once you debug the issue, the program will start processing the file but it takes a long time to complete. This is because the program goes slowly line by line instead of printing the report quickly. You need to debug why the program is slow and then fix it. In this section, you need to find bottlenecks, improve the code, and make it finish faster.\n",
        "\n",
        "The problem with the script is that it’s downloading the whole file and then going over it for each date. The current script takes almost 2 minutes to complete for 2019-01-01. An optimized script should generate reports for the same date within a few seconds.\n",
        "\n",
        "To check the execution time of a script, add a prefix \"time\" and run the script.\n",
        "\n",
        "This is a pretty challenging task that you have to complete by modifying the get_same_or_newer() function.\n",
        "\n",
        "Here are few hints to fix this issue:\n",
        "\n",
        "Download the file only once from the URL.\n",
        "\n",
        "Pre-process it so that the same calculation doesn't need to be done over and over again. This can be done in two ways. You can choose any one of them:\n",
        "\n",
        "To create a dictionary with the start dates and then use the data in the dictionary instead of the complicated calculation.\n",
        "To sort the data by start_date and then go date by date.\n",
        "Choose any one of the above preprocessing options and modify the script accordingly.\n",
        "\n",
        "Once you’ve completed modifying the Python script, save the file by clicking Ctrl-o, the Enter key, and Ctrl-x."
      ],
      "metadata": {
        "id": "xtBDPrBvtyjV"
      }
    },
    {
      "cell_type": "code",
      "source": [
        "import csv\n",
        "import datetime\n",
        "import requests\n",
        "\n",
        "# def get_file_lines(url):\n",
        "def download_file(url):\n",
        "    \"\"\"Returns the lines contained in the file at the given URL\"\"\"\n",
        "\n",
        "    # Download the file over the internet\n",
        "    response = requests.get(url, stream=True)\n",
        "    lines = []\n",
        "\n",
        "    for line in response.iter_lines():\n",
        "        lines.append(line.decode(\"UTF-8\"))\n",
        "    return lines\n",
        "\n",
        "def get_start_date():\n",
        "    \"\"\"Interactively get the start date to query for.\"\"\"\n",
        "\n",
        "    print()\n",
        "    print('Getting the first start date to query for.')\n",
        "    print()\n",
        "    print('The date must be greater than Jan 1st, 2018')\n",
        "    year = int(input('Enter a value for the year: '))\n",
        "    month = int(input('Enter a value for the month: '))\n",
        "    day = int(input('Enter a value for the day: '))\n",
        "    print()\n",
        "\n",
        "    return datetime.datetime(year, month, day)\n",
        "\n",
        "def get_same_or_newer(data, start_date):\n",
        "    \"\"\"Returns the employees that started on the given date, or the closest one.\"\"\"\n",
        "    # We want all employees that started at the same date or the closest newer\n",
        "    # date. To calculate that, we go through all the data and find the\n",
        "    # employees that started on the smallest date that's equal or bigger than\n",
        "    # the given start date.\n",
        "    min_date = datetime.datetime.today()\n",
        "    min_date_employees = []\n",
        "    for row in data: \n",
        "        row_date = datetime.datetime.strptime(row[3], '%Y-%m-%d')\n",
        "\n",
        "        # If this date is smaller than the one we're looking for,\n",
        "        # we skip this row\n",
        "        if row_date < start_date:\n",
        "            continue\n",
        "\n",
        "        # If this date is smaller than the current minimum,\n",
        "        # we pick it as the new minimum, resetting the list of\n",
        "        # employees at the minimal date.\n",
        "        if row_date < min_date:\n",
        "            min_date = row_date\n",
        "            min_date_employees = []\n",
        "\n",
        "        # If this date is the same as the current minimum,\n",
        "        # we add the employee in this row to the list of\n",
        "        # employees at the minimal date.\n",
        "        if row_date == min_date:\n",
        "            min_date_employees.append(\"{} {}\".format(row[0], row[1]))\n",
        "\n",
        "    return min_date, min_date_employees\n",
        "\n",
        "def list_newer(data, start_date):\n",
        "    while start_date < datetime.datetime.today():\n",
        "        start_date, employees = get_same_or_newer(data, start_date)\n",
        "        print(\"Started on {}: {}\".format(start_date.strftime(\"%b %d, %Y\"), employees))\n",
        "\n",
        "        # Now move the date to the next one\n",
        "        start_date = start_date + datetime.timedelta(days=1)\n",
        "\n",
        "def main():\n",
        "    start_date = get_start_date()\n",
        "    FILE_URL = \"https://storage.googleapis.com/gwg-hol-assets/gic215/employees-with-date.csv\"\n",
        "    data = download_file(FILE_URL) # Hint 1. Download the file only once from the URL.\n",
        "    reader = csv.reader(data[1:])\n",
        "    data_list = list(reader)\n",
        "    data_list.sort(key = lambda x: x[3]) # Hint 2. To sort the data by start_date and then go date by date.\n",
        "    list_newer(data_list, start_date) \n",
        "\n",
        "if __name__ == \"__main__\":\n",
        "    main()"
      ],
      "metadata": {
        "id": "_MIlFCPgtrn4"
      },
      "execution_count": null,
      "outputs": []
    }
  ]
}